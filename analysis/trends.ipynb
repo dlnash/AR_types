{
 "cells": [
  {
   "cell_type": "code",
   "execution_count": 1,
   "metadata": {},
   "outputs": [],
   "source": [
    "# Standard Python modules\n",
    "import os, sys\n",
    "from pathlib import Path\n",
    "import numpy as np\n",
    "import pandas as pd\n",
    "import xarray as xr\n",
    "# plotting\n",
    "import matplotlib.pyplot as plt\n",
    "from matplotlib.gridspec import GridSpec\n",
    "from mpl_toolkits.axes_grid1 import AxesGrid\n",
    "import seaborn as sns"
   ]
  },
  {
   "cell_type": "code",
   "execution_count": 2,
   "metadata": {},
   "outputs": [],
   "source": [
    "# Set up paths\n",
    "home = Path.home()                 # users home directory\n",
    "root = home/'repos'/'montini-phd'    # project root directory\n",
    "path_to_data = root/'data'           # data directory (input data, read only)\n",
    "path_to_out = root/'out'             # directory for storing numerical results and intermediate datafiles (read & write\n",
    "path_to_figs = root/'figs'           # directory for storing figures\n",
    "\n",
    "# Path to modules directory\n",
    "path_to_mods = os.fspath(root/'modules')\n",
    "sys.path.append(path_to_mods)\n",
    "\n",
    "# Import my modules\n",
    "\n"
   ]
  },
  {
   "cell_type": "code",
   "execution_count": 7,
   "metadata": {},
   "outputs": [
    {
     "data": {
      "text/html": [
       "<div>\n",
       "<style scoped>\n",
       "    .dataframe tbody tr th:only-of-type {\n",
       "        vertical-align: middle;\n",
       "    }\n",
       "\n",
       "    .dataframe tbody tr th {\n",
       "        vertical-align: top;\n",
       "    }\n",
       "\n",
       "    .dataframe thead th {\n",
       "        text-align: right;\n",
       "    }\n",
       "</style>\n",
       "<table border=\"1\" class=\"dataframe\">\n",
       "  <thead>\n",
       "    <tr style=\"text-align: right;\">\n",
       "      <th></th>\n",
       "      <th>LLJ_CAT</th>\n",
       "    </tr>\n",
       "    <tr>\n",
       "      <th>DATE</th>\n",
       "      <th></th>\n",
       "    </tr>\n",
       "  </thead>\n",
       "  <tbody>\n",
       "    <tr>\n",
       "      <th>1979-11-01 09:00:00</th>\n",
       "      <td>0</td>\n",
       "    </tr>\n",
       "    <tr>\n",
       "      <th>1979-11-02 09:00:00</th>\n",
       "      <td>0</td>\n",
       "    </tr>\n",
       "    <tr>\n",
       "      <th>1979-11-03 09:00:00</th>\n",
       "      <td>0</td>\n",
       "    </tr>\n",
       "    <tr>\n",
       "      <th>1979-11-04 09:00:00</th>\n",
       "      <td>0</td>\n",
       "    </tr>\n",
       "    <tr>\n",
       "      <th>1979-11-05 09:00:00</th>\n",
       "      <td>0</td>\n",
       "    </tr>\n",
       "  </tbody>\n",
       "</table>\n",
       "</div>"
      ],
      "text/plain": [
       "                     LLJ_CAT\n",
       "DATE                        \n",
       "1979-11-01 09:00:00        0\n",
       "1979-11-02 09:00:00        0\n",
       "1979-11-03 09:00:00        0\n",
       "1979-11-04 09:00:00        0\n",
       "1979-11-05 09:00:00        0"
      ]
     },
     "execution_count": 7,
     "metadata": {},
     "output_type": "execute_result"
    }
   ],
   "source": [
    "filepath = path_to_out / 'sallj-types-ndjfm.csv'\n",
    "df = pd.read_csv(filepath)\n",
    "\n",
    "# set up datetime index\n",
    "df['DATE'] = pd.to_datetime(df['DATE'])\n",
    "dates = df.DATE.values\n",
    "df = df.set_index('DATE')\n",
    "\n",
    "df.head()"
   ]
  },
  {
   "cell_type": "code",
   "execution_count": 8,
   "metadata": {},
   "outputs": [
    {
     "name": "stdout",
     "output_type": "stream",
     "text": [
      "0    3832\n",
      "1     473\n",
      "3     466\n",
      "2     443\n",
      "4     383\n",
      "Name: LLJ_CAT, dtype: int64\n",
      "1 473\n",
      "2 443\n",
      "3 466\n",
      "4 383\n",
      "[26.79886686 25.09915014 26.40226629 21.69971671]\n"
     ]
    }
   ],
   "source": [
    "## Total typecount (1979-2016)\n",
    "\n",
    "lljtypes = df.LLJ_CAT.values\n",
    "typelist = [1, 2, 3, 4]\n",
    "ntypes = len(typelist)\n",
    "\n",
    "# method 1\n",
    "type_count1 = df['LLJ_CAT'].value_counts()\n",
    "print(type_count1)\n",
    "\n",
    "# method 2\n",
    "type_count2 = np.empty(ntypes, dtype=int)\n",
    "for k, cat in enumerate(typelist):\n",
    "    idx = (lljtypes == cat)\n",
    "    tmp = lljtypes[idx]\n",
    "    type_count2[k] = len(tmp) \n",
    "    print(cat, type_count2[k])\n",
    "\n",
    "# percentages\n",
    "totdays = np.sum(type_count2)\n",
    "type_freq = type_count2 / totdays\n",
    "print(type_freq*100)\n"
   ]
  },
  {
   "cell_type": "code",
   "execution_count": 9,
   "metadata": {},
   "outputs": [],
   "source": [
    "## Count number of each LLJ type per year\n",
    "\n",
    "years = np.arange(1979, 2017)   # list of years\n",
    "nyrs = len(years)-1               # number of years\n",
    "typecount_per_yr = np.empty((nyrs,ntypes))\n",
    "\n",
    "# Loop to count and tag LLJ events each year\n",
    "for i in range(nyrs):\n",
    "    # index first and last day of season\n",
    "    start_date = pd.to_datetime(\"{}-11-01 9:00\".format(years[i]))\n",
    "    end_date = pd.to_datetime(\"{}-03-31 9:00\".format(years[i+1]))\n",
    "    # select rows by date using df.loc[start_date:end_date]\n",
    "    tmp = df.loc[start_date:end_date]\n",
    "    # extract llj time series\n",
    "    x = tmp['LLJ_CAT'].values\n",
    "    \n",
    "    # loop to count frequency of each LLJ type\n",
    "    for j, cat in enumerate(typelist):\n",
    "        idx = (x == cat)\n",
    "        tmp = x[idx]\n",
    "        typecount_per_yr[i,j] = len(tmp)\n",
    "        "
   ]
  },
  {
   "cell_type": "code",
   "execution_count": 11,
   "metadata": {},
   "outputs": [
    {
     "data": {
      "text/html": [
       "<div>\n",
       "<style scoped>\n",
       "    .dataframe tbody tr th:only-of-type {\n",
       "        vertical-align: middle;\n",
       "    }\n",
       "\n",
       "    .dataframe tbody tr th {\n",
       "        vertical-align: top;\n",
       "    }\n",
       "\n",
       "    .dataframe thead th {\n",
       "        text-align: right;\n",
       "    }\n",
       "</style>\n",
       "<table border=\"1\" class=\"dataframe\">\n",
       "  <thead>\n",
       "    <tr style=\"text-align: right;\">\n",
       "      <th></th>\n",
       "      <th>years</th>\n",
       "      <th>llj_type1</th>\n",
       "      <th>llj_type2</th>\n",
       "      <th>llj_type3</th>\n",
       "      <th>llj_type4</th>\n",
       "    </tr>\n",
       "  </thead>\n",
       "  <tbody>\n",
       "    <tr>\n",
       "      <th>count</th>\n",
       "      <td>37.000000</td>\n",
       "      <td>37.000000</td>\n",
       "      <td>37.000000</td>\n",
       "      <td>37.000000</td>\n",
       "      <td>37.000000</td>\n",
       "    </tr>\n",
       "    <tr>\n",
       "      <th>mean</th>\n",
       "      <td>1997.000000</td>\n",
       "      <td>12.783784</td>\n",
       "      <td>11.972973</td>\n",
       "      <td>12.594595</td>\n",
       "      <td>10.351351</td>\n",
       "    </tr>\n",
       "    <tr>\n",
       "      <th>std</th>\n",
       "      <td>10.824355</td>\n",
       "      <td>4.197454</td>\n",
       "      <td>5.035907</td>\n",
       "      <td>5.997497</td>\n",
       "      <td>3.560713</td>\n",
       "    </tr>\n",
       "    <tr>\n",
       "      <th>min</th>\n",
       "      <td>1979.000000</td>\n",
       "      <td>6.000000</td>\n",
       "      <td>3.000000</td>\n",
       "      <td>3.000000</td>\n",
       "      <td>3.000000</td>\n",
       "    </tr>\n",
       "    <tr>\n",
       "      <th>25%</th>\n",
       "      <td>1988.000000</td>\n",
       "      <td>9.000000</td>\n",
       "      <td>8.000000</td>\n",
       "      <td>8.000000</td>\n",
       "      <td>9.000000</td>\n",
       "    </tr>\n",
       "    <tr>\n",
       "      <th>50%</th>\n",
       "      <td>1997.000000</td>\n",
       "      <td>13.000000</td>\n",
       "      <td>11.000000</td>\n",
       "      <td>12.000000</td>\n",
       "      <td>10.000000</td>\n",
       "    </tr>\n",
       "    <tr>\n",
       "      <th>75%</th>\n",
       "      <td>2006.000000</td>\n",
       "      <td>15.000000</td>\n",
       "      <td>15.000000</td>\n",
       "      <td>16.000000</td>\n",
       "      <td>13.000000</td>\n",
       "    </tr>\n",
       "    <tr>\n",
       "      <th>max</th>\n",
       "      <td>2015.000000</td>\n",
       "      <td>22.000000</td>\n",
       "      <td>21.000000</td>\n",
       "      <td>27.000000</td>\n",
       "      <td>17.000000</td>\n",
       "    </tr>\n",
       "  </tbody>\n",
       "</table>\n",
       "</div>"
      ],
      "text/plain": [
       "             years  llj_type1  llj_type2  llj_type3  llj_type4\n",
       "count    37.000000  37.000000  37.000000  37.000000  37.000000\n",
       "mean   1997.000000  12.783784  11.972973  12.594595  10.351351\n",
       "std      10.824355   4.197454   5.035907   5.997497   3.560713\n",
       "min    1979.000000   6.000000   3.000000   3.000000   3.000000\n",
       "25%    1988.000000   9.000000   8.000000   8.000000   9.000000\n",
       "50%    1997.000000  13.000000  11.000000  12.000000  10.000000\n",
       "75%    2006.000000  15.000000  15.000000  16.000000  13.000000\n",
       "max    2015.000000  22.000000  21.000000  27.000000  17.000000"
      ]
     },
     "execution_count": 11,
     "metadata": {},
     "output_type": "execute_result"
    }
   ],
   "source": [
    "# Convert annual counts of each type from array to pd dataframe\n",
    "\n",
    "data = {'years':years[0:-1],\n",
    "        'llj_type1': typecount_per_yr[:,0],\n",
    "        'llj_type2': typecount_per_yr[:,1],\n",
    "        'llj_type3': typecount_per_yr[:,2],\n",
    "        'llj_type4': typecount_per_yr[:,3]}\n",
    "\n",
    "df_ann= pd.DataFrame(data)\n",
    "df_ann.describe()"
   ]
  },
  {
   "cell_type": "code",
   "execution_count": 29,
   "metadata": {
    "scrolled": true
   },
   "outputs": [
    {
     "data": {
      "text/plain": [
       "<Figure size 432x288 with 0 Axes>"
      ]
     },
     "metadata": {},
     "output_type": "display_data"
    },
    {
     "data": {
      "image/png": "[encoded data removed]",
      "text/plain": [
       "<Figure size 360x360 with 1 Axes>"
      ]
     },
     "metadata": {},
     "output_type": "display_data"
    }
   ],
   "source": [
    "# set seaborn style\n",
    "sns.set()\n",
    "#sns.set_style(\"ticks\", {'patch.force_edgecolor':False})\n",
    "\n",
    "# plot time series\n",
    "\n",
    "plt.figure()\n",
    "sns.lmplot(x='years',y=\"llj_type1\",data=df_ann)\n",
    "yticks=np.arange(2,29,2)\n",
    "plt.ylim(2,28)\n",
    "plt.yticks(yticks)\n",
    "\n",
    "outfile = home/'Desktop'/'trend1.png'\n",
    "plt.savefig(outfile)"
   ]
  },
  {
   "cell_type": "code",
   "execution_count": 30,
   "metadata": {
    "scrolled": true
   },
   "outputs": [
    {
     "data": {
      "text/plain": [
       "<Figure size 432x288 with 0 Axes>"
      ]
     },
     "metadata": {},
     "output_type": "display_data"
    },
    {
     "data": {
      "image/png": "[encoded data removed]",
      "text/plain": [
       "<Figure size 360x360 with 1 Axes>"
      ]
     },
     "metadata": {},
     "output_type": "display_data"
    }
   ],
   "source": [
    "plt.figure()\n",
    "sns.lmplot(x='years',y=\"llj_type2\",data=df_ann)\n",
    "yticks=np.arange(2,29,2)\n",
    "plt.ylim(2,28)\n",
    "plt.yticks(yticks)\n",
    "\n",
    "outfile = home/'Desktop'/'trend2.png'\n",
    "plt.savefig(outfile)"
   ]
  },
  {
   "cell_type": "code",
   "execution_count": 31,
   "metadata": {},
   "outputs": [
    {
     "data": {
      "text/plain": [
       "<Figure size 432x288 with 0 Axes>"
      ]
     },
     "metadata": {},
     "output_type": "display_data"
    },
    {
     "data": {
      "image/png": "[encoded data removed]",
      "text/plain": [
       "<Figure size 360x360 with 1 Axes>"
      ]
     },
     "metadata": {},
     "output_type": "display_data"
    }
   ],
   "source": [
    "plt.figure()\n",
    "sns.lmplot(x='years',y=\"llj_type3\",data=df_ann)\n",
    "yticks=np.arange(2,29,2)\n",
    "plt.ylim(2,28)\n",
    "plt.yticks(yticks)\n",
    "\n",
    "outfile = home/'Desktop'/'trend3.png'\n",
    "plt.savefig(outfile)"
   ]
  },
  {
   "cell_type": "code",
   "execution_count": 32,
   "metadata": {},
   "outputs": [
    {
     "data": {
      "text/plain": [
       "<Figure size 432x288 with 0 Axes>"
      ]
     },
     "metadata": {},
     "output_type": "display_data"
    },
    {
     "data": {
      "image/png": "[encoded data removed]",
      "text/plain": [
       "<Figure size 360x360 with 1 Axes>"
      ]
     },
     "metadata": {},
     "output_type": "display_data"
    }
   ],
   "source": [
    "plt.figure()\n",
    "sns.lmplot(x='years',y=\"llj_type4\",data=df_ann)\n",
    "yticks=np.arange(2,29,2)\n",
    "plt.ylim(2,28)\n",
    "plt.yticks(yticks)\n",
    "\n",
    "outfile = home/'Desktop'/'trend4.png'\n",
    "plt.savefig(outfile)"
   ]
  },
  {
   "cell_type": "code",
   "execution_count": null,
   "metadata": {},
   "outputs": [],
   "source": [
    "# # Set up variables/arrays\n",
    "# df['LLJ_TAGS'] = 0              # new df column for storing llj event tags\n",
    "# years = np.arange(1979, 2017)   # list of years\n",
    "# nyrs = len(years)               # number of years\n",
    "# run_count = 0                   # running count of llj events\n",
    "\n",
    "# # Loop to count and tag LLJ events each year\n",
    "# for k in range(nyrs-1):\n",
    "\n",
    "#     # index first and last day of season\n",
    "#     start_date = pd.to_datetime(\"{}-11-01 9:00\".format(years[k]))\n",
    "#     end_date = pd.to_datetime(\"{}-03-31 9:00\".format(years[k+1]))\n",
    "\n",
    "#     # select rows by date using df.loc[start_date:end_date]\n",
    "#     tmp = df.loc[start_date:end_date]\n",
    "    \n",
    "#     # extract llj time series\n",
    "#     x = tmp['LLJ'].values\n",
    "\n",
    "#     # function to count/tag consecutive events in x\n",
    "#     tags, count = cluster(x)\n",
    "\n",
    "#     # Update tags to be continuous from year to year\n",
    "#     idx = (tags > 0)        \n",
    "#     tags[idx] += run_count\n",
    "\n",
    "#     # Store tags in df\n",
    "#     df.loc[start_date:end_date, 'LLJ_TAGS'] = tags\n",
    "    \n",
    "#     # update running count\n",
    "#     run_count += count\n",
    "\n",
    "    \n",
    "# # Print results\n",
    "# print(\"Number of independent LLJ events: \", run_count)\n",
    "# df.head(15)\n",
    "\n"
   ]
  }
 ],
 "metadata": {
  "kernelspec": {
   "display_name": "Python 3",
   "language": "python",
   "name": "python3"
  },
  "language_info": {
   "codemirror_mode": {
    "name": "ipython",
    "version": 3
   },
   "file_extension": ".py",
   "mimetype": "text/x-python",
   "name": "python",
   "nbconvert_exporter": "python",
   "pygments_lexer": "ipython3",
   "version": "3.7.3"
  },
  "toc": {
   "base_numbering": 1,
   "nav_menu": {},
   "number_sections": true,
   "sideBar": true,
   "skip_h1_title": true,
   "title_cell": "Table of Contents",
   "title_sidebar": "Contents",
   "toc_cell": false,
   "toc_position": {},
   "toc_section_display": true,
   "toc_window_display": false
  }
 },
 "nbformat": 4,
 "nbformat_minor": 2
}
