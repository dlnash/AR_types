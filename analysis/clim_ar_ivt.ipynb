{
 "cells": [
  {
   "cell_type": "markdown",
   "metadata": {},
   "source": [
    "# Fig. AR Climatology\n",
    "\n",
    "Plot domain and variables used for EOF analysis"
   ]
  },
  {
   "cell_type": "code",
   "execution_count": null,
   "metadata": {},
   "outputs": [],
   "source": [
    "# Import Python modules\n",
    "import os, sys\n",
    "import numpy as np\n",
    "import pandas as  pd\n",
    "import xarray as xr\n",
    "# plotting\n",
    "import matplotlib.pyplot as plt\n",
    "from matplotlib import rcParams\n",
    "from matplotlib.gridspec import GridSpec\n",
    "from mpl_toolkits.axes_grid1 import AxesGrid\n",
    "import cartopy.crs as ccrs\n",
    "from cartopy.mpl.geoaxes import GeoAxes\n",
    "import seaborn as sns\n",
    "import cmocean.cm as cmo\n",
    "import cmocean\n",
    "import cartopy.feature as cfeature\n",
    "from cartopy.mpl.ticker import LongitudeFormatter, LatitudeFormatter\n",
    "\n",
    "\n",
    "from pathlib import Path\n",
    "from IPython.display import Image, display\n",
    "from scipy.ndimage import gaussian_filter    # smoothing contour lines\n",
    "\n",
    "# Path to modules\n",
    "sys.path.append('../modules')\n",
    "\n",
    "# Import my modules\n",
    "from plotter import draw_basemap, add_subregion_boxes, make_cmap\n",
    "from ar_funcs import preprocess_ar_area_subregions"
   ]
  },
  {
   "cell_type": "markdown",
   "metadata": {},
   "source": [
    "### Set up paths"
   ]
  },
  {
   "cell_type": "code",
   "execution_count": null,
   "metadata": {},
   "outputs": [],
   "source": [
    "# Set up paths\n",
    "\n",
    "path_to_data = '/home/nash/DATA/data/'                            # project data -- read only\n",
    "path_to_out  = '/home/nash/DATA/repositories/AR_types/out/'       # output files (numerical results, intermediate datafiles) -- read & write\n",
    "path_to_figs = '/home/nash/DATA/repositories/AR_types/figs/'      # figures\n"
   ]
  },
  {
   "cell_type": "code",
   "execution_count": null,
   "metadata": {},
   "outputs": [],
   "source": [
    "# Set a default font for all matplotlib text (can only set this ONCE; must restart kernel to change it)\n",
    "rcParams['font.family'] = 'sans-serif'   # set the default font family to 'sans-serif'\n",
    "rcParams['font.sans-serif'] = 'Arial'    # set the default sans-serif font to 'Arial'\n"
   ]
  },
  {
   "cell_type": "code",
   "execution_count": null,
   "metadata": {},
   "outputs": [],
   "source": [
    "# label strings\n",
    "\n",
    "ivt_units = 'kg m$^{-1}$ s$^{-1}$'"
   ]
  },
  {
   "cell_type": "markdown",
   "metadata": {},
   "source": [
    "## Data"
   ]
  },
  {
   "cell_type": "markdown",
   "metadata": {},
   "source": [
    "### 1) AR time series"
   ]
  },
  {
   "cell_type": "code",
   "execution_count": null,
   "metadata": {},
   "outputs": [],
   "source": [
    "# read netCDF with fraction of area AR covers each subregion\n",
    "# filename = path_to_data + 'CH1_generated_data/ar_catalog_v3_ERAI_fraction_HASIAsubregions.nc'\n",
    "filename = path_to_data + 'CH1_generated_data/ar_catalog_v3_ERAI_fraction_HASIAsubregions.nc'\n",
    "ds = xr.open_dataset(filename)\n",
    "\n",
    "# Set dates\n",
    "ds = ds.sel(time=slice('1979-01-01', '2018-12-31'))\n",
    "\n",
    "## Preprocess AR subregions - get dataframe of AR days based on area threshold\n",
    "df = preprocess_ar_area_subregions(df=ds.to_dataframe(), thres=0.3)\n",
    "# Show table\n",
    "df.head()\n"
   ]
  },
  {
   "cell_type": "markdown",
   "metadata": {},
   "source": [
    "### 2) ERA reanalysis"
   ]
  },
  {
   "cell_type": "code",
   "execution_count": null,
   "metadata": {},
   "outputs": [],
   "source": [
    "# Select lat/lon grid\n",
    "lonmin = 45\n",
    "lonmax = 110\n",
    "latmin = 0\n",
    "latmax = 50\n",
    "\n",
    "### ERA5 DATA ###\n",
    "def preprocess(ds):\n",
    "    '''keep only selected lats and lons'''\n",
    "    return ds.sel(latitude=slice(latmax, latmin), longitude=slice(lonmin, lonmax))\n",
    "\n",
    "# open IVT anomaly data\n",
    "filepath_pattern = path_to_data + 'ERA5/ivt/daily/out.era5*.nc'\n",
    "f1 = xr.open_mfdataset(filepath_pattern, preprocess=preprocess, combine='by_coords')\n",
    "print('ds size in GB {:0.2f}\\n'.format(f1.nbytes / 1e9))\n",
    "\n",
    "# Create new dataset to rename lat lon\n",
    "era = xr.Dataset({'ivte': (['time', 'lat', 'lon'], f1['p71.162'].values),\n",
    "                  'ivtn': (['time', 'lat', 'lon'], f1['p72.162'].values)},\n",
    "                  coords={'time': (['time'], f1.time.values),\n",
    "                          'lat': (['lat'], f1.latitude.values),\n",
    "                          'lon': (['lon'], f1.longitude.values)})\n",
    "\n",
    "era"
   ]
  },
  {
   "cell_type": "markdown",
   "metadata": {},
   "source": [
    "### Select data subset"
   ]
  },
  {
   "cell_type": "code",
   "execution_count": null,
   "metadata": {},
   "outputs": [],
   "source": [
    "# Add AR time series to era5; set as coordinate variables\n",
    "era['ar'] = ('time', df.ar)\n",
    "era = era.set_coords('ar')\n",
    "\n",
    "era['location'] = ('time', df.location)\n",
    "era = era.set_coords('location')\n",
    "\n",
    "# print dataset\n",
    "print(era)"
   ]
  },
  {
   "cell_type": "code",
   "execution_count": null,
   "metadata": {},
   "outputs": [],
   "source": [
    "# Trim date range\n",
    "start_date = '1979-12-01'\n",
    "end_date = '2018-02-28'\n",
    "idx = slice(start_date, end_date)\n",
    "era = era.sel(time=idx)\n",
    "\n",
    "# # Select DJF months\n",
    "# idx = (era.time.dt.month >= 12) | (era.time.dt.month <= 2)\n",
    "# era = era.sel(time=idx)\n",
    "\n",
    "# Select AR days\n",
    "idx = (era.ar >= 1)\n",
    "era_ar = era.sel(time=idx)\n",
    "\n",
    "# print results\n",
    "print(era_ar)"
   ]
  },
  {
   "cell_type": "markdown",
   "metadata": {},
   "source": [
    "## Calculate climatology"
   ]
  },
  {
   "cell_type": "code",
   "execution_count": null,
   "metadata": {},
   "outputs": [],
   "source": [
    "# Mean IVT of AR days per season\n",
    "# era_ar_clim = era_ar.mean(dim='time')\n",
    "era_ar_clim = era_ar.groupby('time.season').mean(dim='time')\n",
    "\n",
    "# Mean IVT of all days\n",
    "era_clim = era.groupby('time.season').mean(dim='time')"
   ]
  },
  {
   "cell_type": "code",
   "execution_count": null,
   "metadata": {},
   "outputs": [],
   "source": [
    "ar_filename = path_to_data + 'ar_catalog/globalARcatalog_ERA-Interim_1979-2019_v3.0.nc'\n",
    "ar_ds = xr.open_dataset(ar_filename)\n",
    "ar_ds = ar_ds.sel(lat=slice(latmin, latmax), lon=slice(lonmin, lonmax))\n",
    "ar_ds = ar_ds.shape\n",
    "\n",
    "# count number of AR time steps per season\n",
    "count_DJF = len(ar_ds.groupby('time.season').groups['DJF'])\n",
    "count_MAM = len(ar_ds.groupby('time.season').groups['MAM'])\n",
    "count_JJA = len(ar_ds.groupby('time.season').groups['JJA'])\n",
    "count_SON = len(ar_ds.groupby('time.season').groups['SON'])\n",
    "\n",
    "count_lst = [count_DJF, count_MAM, count_JJA, count_SON]\n",
    "\n",
    "# count number of AR time steps per gridcell\n",
    "ar_da = ar_ds.groupby('time.season').count(dim='time')"
   ]
  },
  {
   "cell_type": "markdown",
   "metadata": {},
   "source": [
    "## Create figure"
   ]
  },
  {
   "cell_type": "code",
   "execution_count": null,
   "metadata": {},
   "outputs": [],
   "source": [
    "# Set up projection\n",
    "mapcrs = ccrs.PlateCarree()\n",
    "datacrs = ccrs.PlateCarree()\n",
    "\n",
    "# Set tick/grid locations\n",
    "dx = np.arange(lonmin,lonmax+20,20)\n",
    "dy = np.arange(latmin,latmax+20,20)\n",
    "\n",
    "# subregion info \n",
    "# [ymin, xmin]\n",
    "sr_xy = [[65, 30], [75, 25], [85, 20]]\n",
    "# width of subregion\n",
    "sr_width = [10, 10, 10]\n",
    "# height of subregion\n",
    "sr_height = [10, 10, 10]\n"
   ]
  },
  {
   "cell_type": "code",
   "execution_count": null,
   "metadata": {
    "scrolled": true
   },
   "outputs": [],
   "source": [
    "# Data for plotting\n",
    "data = era_clim\n",
    "lons = data.lon.values\n",
    "lats = data.lat.values\n",
    "count_lst = [count_DJF, count_MAM, count_JJA, count_SON]\n",
    "\n",
    "# Create figure\n",
    "fig = plt.figure(figsize=(10,11))\n",
    "nrows = 2\n",
    "ncols = 2\n",
    "\n",
    "# Set up Axes Grid\n",
    "axes_class = (GeoAxes,dict(map_projection=mapcrs))\n",
    "axgr = AxesGrid(fig, 111, axes_class=axes_class,\n",
    "                nrows_ncols=(nrows, ncols), axes_pad = 0.45,\n",
    "                cbar_location='bottom', cbar_mode='single',\n",
    "                cbar_pad=0.05, cbar_size='3%',label_mode='')\n",
    "\n",
    "# cmap setup\n",
    "cmap = cmo.deep\n",
    "clipcmap = cmocean.tools.crop_by_percent(cmap, 5, which='both', N=None)\n",
    "cflevs = np.arange(125, 1000, 125)\n",
    "ssn_lst = ['DJF', 'MAM', 'JJA', 'SON']\n",
    "\n",
    "# Loop for drawing each plot\n",
    "for k, (ax, ssn) in enumerate(zip(axgr, ssn_lst)):\n",
    "    ax = draw_basemap(ax, extent=[lonmin,lonmax,latmin,latmax], xticks=dx, yticks=dy)\n",
    "    \n",
    "    # Contour Filled\n",
    "    # Average Seasonal Total\n",
    "    uvec = data.ivte.sel(season=ssn).values\n",
    "    vvec = data.ivtn.sel(season=ssn).values\n",
    "    ivt = np.sqrt(uvec**2 + vvec**2)\n",
    "    cf = ax.contourf(lons, lats, ivt, transform=datacrs,\n",
    "                    levels=cflevs,cmap=clipcmap, extend='max')\n",
    "    \n",
    "    \n",
    "    # Contour Lines\n",
    "    # Percent Frequency\n",
    "    ar_lats = ar_da.lat.values\n",
    "    ar_lons = ar_da.lon.values\n",
    "    ar_count = ar_da.sel(season=ssn).squeeze()\n",
    "    contr = np.divide(ar_count.values, float(count_lst[k]))\n",
    "    ar_smooth = gaussian_filter(contr*100, sigma=1.5)\n",
    "    clevs = np.arange(2, 22, 2)\n",
    "    cs = ax.contour(ar_lons, ar_lats, ar_smooth, transform=datacrs,\n",
    "                    levels=clevs, colors='k', linewidths=1.1)\n",
    "    kw_clabels = {'fontsize': 9, 'inline': True, 'inline_spacing': 8, 'fmt': '%d',\n",
    "                  'rightside_up': True, 'use_clabeltext': True}\n",
    "    plt.clabel(cs, **kw_clabels)\n",
    "    \n",
    "    # IVT vectors\n",
    "    Q = ax.quiver(lons, lats, uvec, vvec, transform=datacrs,\n",
    "                  color='black', regrid_shape=20, pivot='middle', \n",
    "                  angles='xy', scale_units='xy', scale=50, units='xy')\n",
    "    \n",
    "    # quiver key\n",
    "    qk = ax.quiverkey(Q, 0.7, 1.04, 250, r'250 kg m$^{-1}$ s$^{-1}$', labelpos='E',\n",
    "                   coordinates='axes', fontproperties={'size': 10.0})\n",
    "    \n",
    "    # add subregions\n",
    "    add_subregion_boxes(ax=ax, subregion_xy=sr_xy, width=sr_width, \n",
    "                        height=sr_height, ecolor='red', datacrs=datacrs)\n",
    "    \n",
    "    # Subtitles\n",
    "    ax.set_title(ssn_lst[k], loc='left', fontsize=13)\n",
    "\n",
    "# Colorbar (single)\n",
    "cb = fig.colorbar(cf, axgr.cbar_axes[0], orientation='horizontal', drawedges=True)\n",
    "cb.set_label('IVT (kg m$^{-1}$ s$^{-1}$)', fontsize=11)\n",
    "cb.ax.tick_params(labelsize=10)\n",
    "    \n",
    "# Save figure\n",
    "filepath = path_to_figs + 'ivt_clim_all_ssn' + '.png'\n",
    "plt.savefig(filepath, dpi=300, bbox_inches='tight')\n",
    "\n",
    "# Show\n",
    "plt.show()"
   ]
  },
  {
   "cell_type": "code",
   "execution_count": null,
   "metadata": {},
   "outputs": [],
   "source": [
    "# Data for plotting\n",
    "data = era_clim\n",
    "lons = data.lon.values\n",
    "lats = data.lat.values\n",
    "count_lst = [count_DJF, count_MAM, count_JJA, count_SON]\n",
    "\n",
    "# Create figure\n",
    "fig = plt.figure(figsize=(10,11))\n",
    "nrows = 1\n",
    "ncols = 2\n",
    "\n",
    "# Set up Axes Grid\n",
    "axes_class = (GeoAxes,dict(map_projection=mapcrs))\n",
    "axgr = AxesGrid(fig, 111, axes_class=axes_class,\n",
    "                nrows_ncols=(nrows, ncols), axes_pad = 0.45,\n",
    "                cbar_location='bottom', cbar_mode='single',\n",
    "                cbar_pad=0.05, cbar_size='3%',label_mode='')\n",
    "\n",
    "# cmap setup\n",
    "cmap = cmo.deep\n",
    "clipcmap = cmocean.tools.crop_by_percent(cmap, 5, which='both', N=None)\n",
    "cflevs = np.arange(125, 625, 125)\n",
    "ssn_lst = ['DJF', 'MAM']\n",
    "\n",
    "# Loop for drawing each plot\n",
    "for k, (ax, ssn) in enumerate(zip(axgr, ssn_lst)):\n",
    "    ax = draw_basemap(ax, extent=[lonmin,lonmax,latmin,latmax], xticks=dx, yticks=dy)\n",
    "    \n",
    "    # Contour Filled\n",
    "    # Average Seasonal Total\n",
    "    uvec = data.ivte.sel(season=ssn).values\n",
    "    vvec = data.ivtn.sel(season=ssn).values\n",
    "    ivt = np.sqrt(uvec**2 + vvec**2)\n",
    "    cf = ax.contourf(lons, lats, ivt, transform=datacrs,\n",
    "                    levels=cflevs,cmap=clipcmap, extend='max')\n",
    "    \n",
    "    \n",
    "    # Contour Lines\n",
    "    # Percent Frequency\n",
    "    ar_lats = ar_da.lat.values\n",
    "    ar_lons = ar_da.lon.values\n",
    "    ar_count = ar_da.sel(season=ssn).squeeze()\n",
    "    contr = np.divide(ar_count.values, float(count_lst[k]))\n",
    "    ar_smooth = gaussian_filter(contr*100, sigma=1.5)\n",
    "    clevs = np.arange(2, 22, 2)\n",
    "    cs = ax.contour(ar_lons, ar_lats, ar_smooth, transform=datacrs,\n",
    "                    levels=clevs, colors='k', linewidths=1.1)\n",
    "    kw_clabels = {'fontsize': 9, 'inline': True, 'inline_spacing': 8, 'fmt': '%d',\n",
    "                  'rightside_up': True, 'use_clabeltext': True}\n",
    "    plt.clabel(cs, **kw_clabels)\n",
    "    \n",
    "    # IVT vectors\n",
    "    Q = ax.quiver(lons, lats, uvec, vvec, transform=datacrs,\n",
    "                  color='black', regrid_shape=20, pivot='middle', \n",
    "                  angles='xy', scale_units='xy', scale=50, units='xy')\n",
    "    \n",
    "    # quiver key\n",
    "    qk = ax.quiverkey(Q, 0.7, 1.04, 250, r'250 kg m$^{-1}$ s$^{-1}$', labelpos='E',\n",
    "                   coordinates='axes', fontproperties={'size': 10.0})\n",
    "    \n",
    "    # add subregions\n",
    "    add_subregion_boxes(ax=ax, subregion_xy=sr_xy, width=sr_width, \n",
    "                        height=sr_height, ecolor='red', datacrs=datacrs)\n",
    "    \n",
    "    # Subtitles\n",
    "    ax.set_title(ssn_lst[k], loc='left', fontsize=13)\n",
    "\n",
    "# Colorbar (single)\n",
    "cb = fig.colorbar(cf, axgr.cbar_axes[0], orientation='horizontal', drawedges=True)\n",
    "cb.set_label('IVT (kg m$^{-1}$ s$^{-1}$)', fontsize=11)\n",
    "cb.ax.tick_params(labelsize=10)\n",
    "    \n",
    "# Save figure\n",
    "filepath = path_to_figs + 'ivt_clim_djf_mam' + '.png'\n",
    "plt.savefig(filepath, dpi=300, bbox_inches='tight')\n",
    "\n",
    "# Show\n",
    "plt.show()"
   ]
  },
  {
   "cell_type": "code",
   "execution_count": null,
   "metadata": {},
   "outputs": [],
   "source": []
  }
 ],
 "metadata": {
  "kernelspec": {
   "display_name": "ar_types",
   "language": "python",
   "name": "ar_types"
  },
  "language_info": {
   "codemirror_mode": {
    "name": "ipython",
    "version": 3
   },
   "file_extension": ".py",
   "mimetype": "text/x-python",
   "name": "python",
   "nbconvert_exporter": "python",
   "pygments_lexer": "ipython3",
   "version": "3.7.8"
  },
  "toc": {
   "base_numbering": 1,
   "nav_menu": {},
   "number_sections": true,
   "sideBar": true,
   "skip_h1_title": true,
   "title_cell": "Table of Contents",
   "title_sidebar": "Contents",
   "toc_cell": false,
   "toc_position": {},
   "toc_section_display": true,
   "toc_window_display": false
  }
 },
 "nbformat": 4,
 "nbformat_minor": 2
}
