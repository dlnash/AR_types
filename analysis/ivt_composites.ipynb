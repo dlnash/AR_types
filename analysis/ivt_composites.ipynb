{
 "cells": [
  {
   "cell_type": "markdown",
   "metadata": {},
   "source": [
    "# fig5_ivt\n",
    "AR composites of integrated vapor transport (IVT)\n"
   ]
  },
  {
   "cell_type": "markdown",
   "metadata": {},
   "source": [
    "## Imports"
   ]
  },
  {
   "cell_type": "code",
   "execution_count": null,
   "metadata": {},
   "outputs": [],
   "source": [
    "# Standard Python modules\n",
    "import os, sys\n",
    "from pathlib import Path\n",
    "import numpy as np\n",
    "import pandas as pd\n",
    "import xarray as xr\n",
    "# matplotlib\n",
    "import matplotlib.pyplot as plt\n",
    "from matplotlib.gridspec import GridSpec\n",
    "from mpl_toolkits.axes_grid1 import AxesGrid\n",
    "from matplotlib import rcParams\n",
    "from matplotlib.colors import ListedColormap\n",
    "# plot styles/formatting\n",
    "import seaborn as sns\n",
    "import cmocean.cm as cmo\n",
    "import cmocean\n",
    "# cartopy\n",
    "import cartopy.crs as ccrs\n",
    "from cartopy.mpl.geoaxes import GeoAxes\n",
    "\n",
    "# Extra \n",
    "from scipy.ndimage import gaussian_filter    # smoothing contour lines\n",
    "import metpy.calc as mpcalc\n",
    "from metpy.units import units\n",
    "from IPython.display import Image, display\n",
    "\n",
    "# import personal modules\n",
    "\n",
    "# Path to modules\n",
    "sys.path.append('../modules')\n",
    "\n",
    "# Import my modules\n",
    "from plotter import draw_basemap"
   ]
  },
  {
   "cell_type": "code",
   "execution_count": null,
   "metadata": {},
   "outputs": [],
   "source": [
    "# Set up paths\n",
    "\n",
    "path_to_data = '/home/nash/DATA/data/'                            # project data -- read only\n",
    "path_to_out  = '/home/nash/DATA/repositories/AR_types/out/'       # output files (numerical results, intermediate datafiles) -- read & write\n",
    "path_to_figs = '/home/nash/DATA/repositories/AR_types/figs/'      # figures\n"
   ]
  },
  {
   "cell_type": "code",
   "execution_count": null,
   "metadata": {},
   "outputs": [],
   "source": [
    "# Set a default font for all matplotlib text (after setting, must restart kernel to change it)\n",
    "\n",
    "rcParams['font.family'] = 'sans-serif'   # set the default font family to 'sans-serif'\n",
    "rcParams['font.sans-serif'] = 'Arial'    # set the default sans-serif font to 'Arial'"
   ]
  },
  {
   "cell_type": "markdown",
   "metadata": {},
   "source": [
    "## Data"
   ]
  },
  {
   "cell_type": "markdown",
   "metadata": {},
   "source": [
    "### ERA5 renalysis"
   ]
  },
  {
   "cell_type": "code",
   "execution_count": null,
   "metadata": {},
   "outputs": [],
   "source": [
    "## Set variable names (for saving data/figs)\n",
    "var_names = 'IVT'\n",
    "eofmode = 't' # s or t\n",
    "dispmat = 'cor' # dispersion matrix type correlation/covariance\n",
    "\n",
    "# Select lat/lon grid\n",
    "lonmin = 0\n",
    "lonmax = 120\n",
    "latmin = 0\n",
    "latmax =  50\n",
    "\n",
    "# for figure names for testing different configurations\n",
    "fname_id = var_names + eofmode + str(lonmin) + str(lonmax) + str(latmin) + str(latmax) + dispmat\n",
    "\n",
    "\n",
    "### ERA5 DATA ###\n",
    "def preprocess(ds):\n",
    "    '''keep only selected lats and lons'''\n",
    "    return ds.sel(latitude=slice(latmax, latmin), longitude=slice(lonmin, lonmax))\n",
    "\n",
    "# open IVT anomaly data\n",
    "filepath_pattern = path_to_data + 'ERA5/ivt/daily/out.era5*.nc'\n",
    "f1 = xr.open_mfdataset(filepath_pattern, preprocess=preprocess, combine='by_coords')\n",
    "print('ds size in GB {:0.2f}\\n'.format(f1.nbytes / 1e9))\n",
    "\n",
    "# Create new dataset to rename lat lon\n",
    "era = xr.Dataset({'ivte': (['time', 'lat', 'lon'], f1['p71.162'].values),\n",
    "                  'ivtn': (['time', 'lat', 'lon'], f1['p72.162'].values)},\n",
    "                  coords={'time': (['time'], f1.time.values),\n",
    "                          'lat': (['lat'], f1.latitude.values),\n",
    "                          'lon': (['lon'], f1.longitude.values)})\n",
    "\n",
    "# Trim date range\n",
    "start_date = '1979-12-01'\n",
    "end_date = '2018-02-28'\n",
    "idx = slice(start_date, end_date)\n",
    "era = era.sel(time=idx)\n",
    "\n",
    "# Select DJF months\n",
    "idx = (era.time.dt.month >= 12) | (era.time.dt.month <= 2)\n",
    "era = era.sel(time=idx)\n",
    "\n",
    "era\n"
   ]
  },
  {
   "cell_type": "markdown",
   "metadata": {},
   "source": [
    "### AR days"
   ]
  },
  {
   "cell_type": "code",
   "execution_count": null,
   "metadata": {},
   "outputs": [],
   "source": [
    "filepath = path_to_out + 'HUV250QUV850t0120-1565corhma_AR-types-djf.csv'\n",
    "df = pd.read_csv(filepath)\n"
   ]
  },
  {
   "cell_type": "code",
   "execution_count": null,
   "metadata": {},
   "outputs": [],
   "source": [
    "# Combine AR Cat data w/ reanalysis data\n",
    "\n",
    "# Add llj time series to the ERA dataset\n",
    "era['ar'] = ('time', df.AR_CAT)\n",
    "era['eof'] = ('time', df.EOF_CAT)\n",
    "era = era.set_coords('ar')\n",
    "era = era.set_coords('eof')\n",
    "\n",
    "# Select only LLJ days\n",
    "idx = (era.ar >= 1)\n",
    "era_ar = era.sel(time=idx)\n",
    "\n",
    "# print results\n",
    "print(era_ar)\n",
    "\n",
    "# Select only LLJ days\n",
    "idx = (era.eof >= 1)\n",
    "era_eof = era.sel(time=idx)\n",
    "\n",
    "# print results\n",
    "print(era_eof)"
   ]
  },
  {
   "cell_type": "markdown",
   "metadata": {},
   "source": [
    "### Compute AR composites"
   ]
  },
  {
   "cell_type": "code",
   "execution_count": null,
   "metadata": {},
   "outputs": [],
   "source": [
    "# Compute composites of each AR type\n",
    "era_ar_comp = era_ar.groupby('ar').mean('time')\n",
    "print(era_ar_comp)\n",
    "\n",
    "era_eof_comp = era_eof.groupby('eof').mean('time')\n",
    "print(era_eof_comp)"
   ]
  },
  {
   "cell_type": "markdown",
   "metadata": {},
   "source": [
    "## Figure 5"
   ]
  },
  {
   "cell_type": "markdown",
   "metadata": {},
   "source": [
    "### Common plot properties"
   ]
  },
  {
   "cell_type": "code",
   "execution_count": null,
   "metadata": {},
   "outputs": [],
   "source": [
    "# Set seaborn plot style\n",
    "sns.set()\n",
    "sns.set_style(\"ticks\", {'patch.force_edgecolor':False})\n",
    "\n",
    "# Set projections\n",
    "datacrs = ccrs.PlateCarree()   # data/source\n",
    "mapcrs = ccrs.PlateCarree()    # map/destination\n",
    "\n",
    "# Set tick/grid locations\n",
    "dx = np.arange(lonmin,lonmax+20,20)\n",
    "dy = np.arange(latmin,latmax+20,20)\n",
    "\n",
    "# Labels\n",
    "plt_labels = ['AR Type 1', 'AR Type 2']\n"
   ]
  },
  {
   "cell_type": "markdown",
   "metadata": {},
   "source": [
    "### Create figure"
   ]
  },
  {
   "cell_type": "code",
   "execution_count": null,
   "metadata": {},
   "outputs": [],
   "source": [
    "# lat/lon arrays\n",
    "lats = era_ar_comp.lat.values\n",
    "lons = era_ar_comp.lon.values\n",
    "\n",
    "# IVT\n",
    "uvec = era_ar_comp.ivte.values\n",
    "vvec = era_ar_comp.ivtn.values\n",
    "ivt = np.sqrt(uvec**2 + vvec**2)"
   ]
  },
  {
   "cell_type": "code",
   "execution_count": null,
   "metadata": {},
   "outputs": [],
   "source": [
    " # Create figure\n",
    "fig = plt.figure(figsize=(10,11))\n",
    "nrows = 2\n",
    "ncols = 1\n",
    "\n",
    "# Set up Axes Grid\n",
    "axes_class = (GeoAxes,dict(map_projection=mapcrs))\n",
    "axgr = AxesGrid(fig, 111, axes_class=axes_class,\n",
    "                nrows_ncols=(nrows, ncols), axes_pad = 0.55,\n",
    "                cbar_location='bottom', cbar_mode='single',\n",
    "                cbar_pad=0.0, cbar_size='2.5%',label_mode='')\n",
    "\n",
    "# Loop for drawing each plot\n",
    "for k, ax in enumerate(axgr):\n",
    "    ax = draw_basemap(ax, extent=[lonmin,lonmax,latmin,latmax], xticks=dx, yticks=dy)\n",
    "    \n",
    "    # IVT (filled contour)\n",
    "    clevs_ivt = np.arange(100,601,50)\n",
    "    cf = ax.contourf(lons, lats, ivt[k,:,:], transform=datacrs,\n",
    "                    levels=clevs_ivt, cmap=cmo.deep)\n",
    "    \n",
    "    # IVT vectors\n",
    "    ax.quiver(lons, lats, uvec[k,:,:], vvec[k,:,:], transform=datacrs,\n",
    "        color='black', regrid_shape=20, pivot='middle')\n",
    "    \n",
    "    # Subtitles\n",
    "    ax.set_title(plt_labels[k], loc='left', fontsize=13)\n",
    "    \n",
    "    \n",
    "# Colorbar (single)\n",
    "cb = fig.colorbar(cf, axgr.cbar_axes[0], orientation='horizontal', drawedges=True)\n",
    "cb.set_label('IVT (kg m$^{-1}$ s$^{-1}$)', fontsize=11)\n",
    "cb.ax.tick_params(labelsize=10)\n",
    "      \n",
    "# Save figure\n",
    "filepath = path_to_figs + 'ar_types_'+ fname_id + '.png'\n",
    "plt.savefig(filepath, dpi=150, bbox_inches='tight')\n",
    "\n",
    "# Show\n",
    "plt.show()\n",
    "    "
   ]
  },
  {
   "cell_type": "code",
   "execution_count": null,
   "metadata": {},
   "outputs": [],
   "source": [
    "# IVT\n",
    "uvec = era_eof_comp.ivte.values\n",
    "vvec = era_eof_comp.ivtn.values\n",
    "ivt = np.sqrt(uvec**2 + vvec**2)\n",
    "\n",
    "plt_labels = ['AR EOF1', 'AR EOF2']"
   ]
  },
  {
   "cell_type": "code",
   "execution_count": null,
   "metadata": {},
   "outputs": [],
   "source": [
    " # Create figure\n",
    "fig = plt.figure(figsize=(10,11))\n",
    "nrows = 2\n",
    "ncols = 1\n",
    "\n",
    "# Set up Axes Grid\n",
    "axes_class = (GeoAxes,dict(map_projection=mapcrs))\n",
    "axgr = AxesGrid(fig, 111, axes_class=axes_class,\n",
    "                nrows_ncols=(nrows, ncols), axes_pad = 0.55,\n",
    "                cbar_location='bottom', cbar_mode='single',\n",
    "                cbar_pad=0.0, cbar_size='2.5%',label_mode='')\n",
    "\n",
    "# Loop for drawing each plot\n",
    "for k, ax in enumerate(axgr):\n",
    "    ax = draw_basemap(ax, extent=[lonmin,lonmax,latmin,latmax], xticks=dx, yticks=dy)\n",
    "    \n",
    "    # IVT (filled contour)\n",
    "    clevs_ivt = np.arange(100,601,50)\n",
    "    cf = ax.contourf(lons, lats, ivt[k,:,:], transform=datacrs,\n",
    "                    levels=clevs_ivt, cmap=cmo.deep)\n",
    "    \n",
    "    # IVT vectors\n",
    "    ax.quiver(lons, lats, uvec[k,:,:], vvec[k,:,:], transform=datacrs,\n",
    "        color='black', regrid_shape=20, pivot='middle')\n",
    "    \n",
    "    # Subtitles\n",
    "    ax.set_title(plt_labels[k], loc='left', fontsize=13)\n",
    "    \n",
    "    \n",
    "# Colorbar (single)\n",
    "cb = fig.colorbar(cf, axgr.cbar_axes[0], orientation='horizontal', drawedges=True)\n",
    "cb.set_label('IVT (kg m$^{-1}$ s$^{-1}$)', fontsize=11)\n",
    "cb.ax.tick_params(labelsize=10)\n",
    "      \n",
    "# Save figure\n",
    "filepath = path_to_figs + 'eof_types_'+ fname_id + '.png'\n",
    "plt.savefig(filepath, dpi=150, bbox_inches='tight')\n",
    "\n",
    "# Show\n",
    "plt.show()\n",
    "    "
   ]
  },
  {
   "cell_type": "code",
   "execution_count": null,
   "metadata": {},
   "outputs": [],
   "source": []
  }
 ],
 "metadata": {
  "kernelspec": {
   "display_name": "Python (ar_types)",
   "language": "python",
   "name": "ar_types"
  },
  "language_info": {
   "codemirror_mode": {
    "name": "ipython",
    "version": 3
   },
   "file_extension": ".py",
   "mimetype": "text/x-python",
   "name": "python",
   "nbconvert_exporter": "python",
   "pygments_lexer": "ipython3",
   "version": "3.7.6"
  },
  "toc": {
   "base_numbering": 1,
   "nav_menu": {},
   "number_sections": true,
   "sideBar": true,
   "skip_h1_title": true,
   "title_cell": "Table of Contents",
   "title_sidebar": "Contents",
   "toc_cell": false,
   "toc_position": {},
   "toc_section_display": true,
   "toc_window_display": false
  }
 },
 "nbformat": 4,
 "nbformat_minor": 2
}
