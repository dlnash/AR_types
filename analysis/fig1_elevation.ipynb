{
 "cells": [
  {
   "cell_type": "markdown",
   "metadata": {},
   "source": [
    "pull data from https://dds.cr.usgs.gov/srtm/version2_1/SRTM3/Eurasia/\n",
    "tutorial on reading .hgt data https://librenepal.com/article/reading-srtm-data-with-python/\n"
   ]
  },
  {
   "cell_type": "code",
   "execution_count": null,
   "metadata": {},
   "outputs": [],
   "source": [
    "import os\n",
    "import json\n",
    "import numpy as np\n",
    "\n",
    "SAMPLES = 1201  # Change this to 3601 for SRTM1\n",
    "HGTDIR = 'hgt'  # All 'hgt' files will be kept here uncompressed\n",
    "\n",
    "\n",
    "def get_elevation(lon, lat):\n",
    "    hgt_file = get_file_name(lon, lat)\n",
    "    if hgt_file:\n",
    "        return read_elevation_from_file(hgt_file, lon, lat)\n",
    "    # Treat it as data void as in SRTM documentation\n",
    "    # if file is absent\n",
    "    return -32768\n",
    "\n",
    "\n",
    "def read_elevation_from_file(hgt_file, lon, lat):\n",
    "    with open(hgt_file, 'rb') as hgt_data:\n",
    "        # HGT is 16bit signed integer(i2) - big endian(>)\n",
    "        elevations = np.fromfile(hgt_data, np.dtype('>i2'), SAMPLES*SAMPLES)\\\n",
    "                                .reshape((SAMPLES, SAMPLES))\n",
    "\n",
    "        lat_row = int(round((lat - int(lat)) * (SAMPLES - 1), 0))\n",
    "        lon_row = int(round((lon - int(lon)) * (SAMPLES - 1), 0))\n",
    "\n",
    "        return elevations[SAMPLES - 1 - lat_row, lon_row].astype(int)\n",
    "\n",
    "def get_file_name(lon, lat):\n",
    "    \"\"\"\n",
    "    Returns filename such as N27E086.hgt, concatenated\n",
    "    with HGTDIR where these 'hgt' files are kept\n",
    "    \"\"\"\n",
    "\n",
    "    if lat >= 0:\n",
    "        ns = 'N'\n",
    "    elif lat < 0:\n",
    "        ns = 'S'\n",
    "\n",
    "    if lon >= 0:\n",
    "        ew = 'E'\n",
    "    elif lon < 0:\n",
    "        ew = 'W'\n",
    "\n",
    "    hgt_file = \"%(ns)s%(lat)02d%(ew)s%(lon)03d.hgt\" % {'lat': abs(lat), 'lon': abs(lon), 'ns': ns, 'ew': ew}\n",
    "    hgt_file_path = os.path.join(HGTDIR, hgt_file)\n",
    "    if os.path.isfile(hgt_file_path):\n",
    "        return hgt_file_path\n",
    "    else:\n",
    "        return None\n",
    "\n",
    "# Mt. Everest\n",
    "print get_elevation(86.925278, 27.988056)\n",
    "# Kanchanjunga\n",
    "print get_elevation(88.146667, 27.7025)\n",
    "\n",
    "SAMPLES = 1201 # Change this to 3601 for SRTM1\n"
   ]
  }
 ],
 "metadata": {
  "kernelspec": {
   "display_name": "ar_types",
   "language": "python",
   "name": "ar_types"
  },
  "language_info": {
   "codemirror_mode": {
    "name": "ipython",
    "version": 3
   },
   "file_extension": ".py",
   "mimetype": "text/x-python",
   "name": "python",
   "nbconvert_exporter": "python",
   "pygments_lexer": "ipython3",
   "version": "3.7.8"
  }
 },
 "nbformat": 4,
 "nbformat_minor": 4
}
