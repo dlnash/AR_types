{
 "cells": [
  {
   "cell_type": "markdown",
   "metadata": {},
   "source": [
    "# Probabilities"
   ]
  },
  {
   "cell_type": "code",
   "execution_count": 1,
   "metadata": {},
   "outputs": [],
   "source": [
    "# Import Python modules\n",
    "import os, sys\n",
    "from pathlib import Path\n",
    "import numpy as np\n",
    "import pandas as  pd\n",
    "import xarray as xr\n",
    "# matplotlib\n",
    "import matplotlib.pyplot as plt\n",
    "from matplotlib.gridspec import GridSpec\n",
    "from mpl_toolkits.axes_grid1 import AxesGrid\n",
    "from matplotlib import rcParams\n",
    "# plot styles/formatting\n",
    "import seaborn as sns\n",
    "import cmocean\n",
    "import cmocean.cm as cmo\n"
   ]
  },
  {
   "cell_type": "code",
   "execution_count": 4,
   "metadata": {},
   "outputs": [],
   "source": [
    "# Set up paths\n",
    "home = Path.home()                     # users home directory\n",
    "root = home / 'repos' / 'montini-phd'  # project root directory\n",
    "modules = root/'modules'               # project modules\n",
    "path_to_data = root/'data'           # project data -- read only\n",
    "path_to_out = root/'out'             # output files (numerical results, intermediate datafiles) -- read & write\n",
    "path_to_figs = root/'figs'           # figures\n",
    "\n",
    "# Set path to module directory\n",
    "sys.path.append(modules)\n",
    "\n",
    "# Import User Modules\n"
   ]
  },
  {
   "cell_type": "code",
   "execution_count": 5,
   "metadata": {},
   "outputs": [],
   "source": [
    "# Set a default font for all matplotlib text \n",
    "rcParams['font.family'] = 'sans-serif'   # set the default font family to 'sans-serif'\n",
    "rcParams['font.sans-serif'] = 'Arial'    # set the default sans-serif font to 'Arial'"
   ]
  },
  {
   "cell_type": "markdown",
   "metadata": {},
   "source": [
    "## Read data"
   ]
  },
  {
   "cell_type": "code",
   "execution_count": null,
   "metadata": {
    "scrolled": true
   },
   "outputs": [],
   "source": [
    "# Read CSV data into pandas DataFrame\n",
    "infile = path_to_out / 'sallj-types-ndjfm.csv'\n",
    "df= pd.read_csv(infile)\n",
    "\n",
    "# set up datetime index\n",
    "df['DATE'] = pd.to_datetime(df['DATE'])\n",
    "df = df.set_index('DATE')\n",
    "\n",
    "df.head(30)"
   ]
  },
  {
   "cell_type": "markdown",
   "metadata": {},
   "source": [
    "## Markov Transition Probabilities"
   ]
  },
  {
   "cell_type": "code",
   "execution_count": null,
   "metadata": {},
   "outputs": [],
   "source": [
    "def transition_matrix(x, states):\n",
    "    # set up \n",
    "    morder = 1                          # model order (default=1) ** make optional keyword param\n",
    "    nt = len(x)-1                       # number of transitions\n",
    "    n = len(states)                          # number of states\n",
    "    transc = np.zeros((n,n), dtype=int)      # Matrix of transitions counts (initialize counts as 0)\n",
    "\n",
    "    # Loop to count transitions\n",
    "    for t in range(nt):\n",
    "        i = np.where(states == x[t])[0]      # i = indice of current state\n",
    "        j = np.where(states == x[t+1])[0]    # j = indice of next state    \n",
    "        transc[i,j] += 1                    # add a transition count for s[i] to s[j]    \n",
    "  #  print('Transition counts: \\n', transc, '\\n')\n",
    "\n",
    "    # Compute marginal totals (sum across rows in M)\n",
    "    margin = np.sum(transc, axis=1)\n",
    "  #  print('Marginal totals \\n', margin, '\\n')\n",
    "\n",
    "    # Calculate probabilities (divide each row in M by its marginal total)\n",
    "    probs = transc / margin[:,np.newaxis]\n",
    "    #print('Transition probabilities: \\n', probs, '\\n')\n",
    "    \n",
    "    return transc, probs\n"
   ]
  },
  {
   "cell_type": "code",
   "execution_count": null,
   "metadata": {},
   "outputs": [],
   "source": [
    "# Calculate continuous transition matrix\n",
    "\n",
    "x = df.LLJ_CAT.values   # discrete time series random variables (1d)\n",
    "states = [0, 1, 2, 3, 4]     # input2: list of states\n",
    "\n",
    "transc, probs = transition_matrix(x, states)\n",
    "\n",
    "print('Transition counts: \\n', transc, '\\n')\n",
    "print('Transition probabilities: \\n', np.round(probs,3), '\\n')\n",
    "\n",
    "#test = np.sum(probs, axis=1)\n",
    "#print(test)"
   ]
  },
  {
   "cell_type": "markdown",
   "metadata": {},
   "source": [
    "### Multi-year\n",
    "Loop to count transitions for each season separately; combine transition counts from each year to compute the final matrix of transition probabilities"
   ]
  },
  {
   "cell_type": "code",
   "execution_count": null,
   "metadata": {},
   "outputs": [],
   "source": [
    "# set up\n",
    "years = np.arange(1979, 2017)   # list of years\n",
    "nyrs = len(years)               # number of years\n",
    "\n",
    "states = [0, 1, 2, 3, 4] \n",
    "nstates = len(states)\n",
    "transc_myr = np.zeros((nstates, nstates, nyrs), dtype=int)\n",
    "\n",
    "# Loop to count transitions each year\n",
    "for k in range(nyrs-1):\n",
    "    \n",
    "    # index first and last day of season\n",
    "    start_date = pd.to_datetime(\"{}-11-01 9:00\".format(years[k]))\n",
    "    end_date = pd.to_datetime(\"{}-03-31 9:00\".format(years[k+1]))\n",
    "\n",
    "    # select rows by date using df.loc[start_date:end_date]\n",
    "    x = df.loc[start_date:end_date, 'LLJ_CAT'].values\n",
    "    \n",
    "    # calculate transition matrix\n",
    "    transc, probs = transition_matrix(x, states)\n",
    "\n",
    "    # store transition counts in multiyear array\n",
    "    transc_myr[:,:,k] = transc\n",
    "    \n",
    "    # print statements\n",
    "    #print('Transition counts: \\n', transc, '\\n')\n",
    "   # print('Transition probabilities: \\n', probs, '\\n')\n",
    "\n",
    "\n",
    "# Sum transition counts over all years\n",
    "transc_tot = np.sum(transc_myr, axis=2)\n",
    "print(transc_tot.shape, transc_tot)\n",
    "\n",
    "# Compute marginal totals\n",
    "margin_tot = np.sum(transc_tot, axis=1)\n",
    "print(margin_tot.shape, margin_tot)\n",
    "\n",
    "# Convert transition counts to probabilities\n",
    "probs_tot = transc_tot / margin_tot[:,np.newaxis]\n",
    "print(np.round(probs_tot,3))"
   ]
  },
  {
   "cell_type": "code",
   "execution_count": null,
   "metadata": {},
   "outputs": [],
   "source": [
    "test = np.sum(probs_tot, axis=1)\n",
    "print(test)"
   ]
  },
  {
   "cell_type": "markdown",
   "metadata": {},
   "source": [
    "## Figure: Heat map of Transition Probabilities"
   ]
  },
  {
   "cell_type": "code",
   "execution_count": null,
   "metadata": {},
   "outputs": [],
   "source": [
    "# set seaborn style\n",
    "sns.set()\n",
    "sns.set_style(\"ticks\", {'patch.force_edgecolor':False})\n",
    "\n",
    "# trim colormap\n",
    "newcmap = cmocean.tools.crop_by_percent(cmo.haline, 3, which='min', N=None)\n",
    "\n",
    "# create figure\n",
    "fig, ax = plt.subplots(figsize=(7,6))\n",
    "ax = sns.heatmap(probs_tot, vmin=0, vmax=1, \n",
    "                 annot=True, fmt='5.3f', \n",
    "                 linewidths=0.5, square=True,\n",
    "                cmap=newcmap)\n",
    "\n",
    "# set plot properties\n",
    "ax.set_xlim(0, max(states)+1)\n",
    "ax.set_ylim(max(states)+1, 0)\n",
    "ax.set_title('Transition Probabilities')\n",
    "ax.set_xlabel('SALLJ (t+1)')\n",
    "ax.set_ylabel('SALLJ (t)')\n",
    "\n",
    "# Display figure\n",
    "filepath = path_to_figs / 'fig10_v2.png'\n",
    "plt.savefig(filepath, dpi=150, bbox_inches='tight')\n",
    "plt.show()\n"
   ]
  },
  {
   "cell_type": "code",
   "execution_count": null,
   "metadata": {},
   "outputs": [],
   "source": []
  }
 ],
 "metadata": {
  "kernelspec": {
   "display_name": "Python 3",
   "language": "python",
   "name": "python3"
  },
  "language_info": {
   "codemirror_mode": {
    "name": "ipython",
    "version": 3
   },
   "file_extension": ".py",
   "mimetype": "text/x-python",
   "name": "python",
   "nbconvert_exporter": "python",
   "pygments_lexer": "ipython3",
   "version": "3.6.8"
  },
  "toc": {
   "base_numbering": 1,
   "nav_menu": {},
   "number_sections": true,
   "sideBar": true,
   "skip_h1_title": true,
   "title_cell": "Table of Contents",
   "title_sidebar": "Contents",
   "toc_cell": false,
   "toc_position": {},
   "toc_section_display": true,
   "toc_window_display": false
  }
 },
 "nbformat": 4,
 "nbformat_minor": 2
}
