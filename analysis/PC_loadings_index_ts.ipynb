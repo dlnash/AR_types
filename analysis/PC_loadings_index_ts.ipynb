{
 "cells": [
  {
   "cell_type": "code",
   "execution_count": 1,
   "metadata": {},
   "outputs": [],
   "source": [
    "# Import Python modules\n",
    "import os, sys\n",
    "from pathlib import Path\n",
    "import numpy as np\n",
    "import numpy.ma as ma\n",
    "import pandas as  pd\n",
    "import xarray as xr\n",
    "from sklearn.cluster import KMeans\n",
    "from scipy import stats\n",
    "# matplotlib\n",
    "import matplotlib.pyplot as plt\n",
    "from matplotlib.gridspec import GridSpec\n",
    "from mpl_toolkits.axes_grid1 import AxesGrid\n",
    "from matplotlib.colors import ListedColormap\n",
    "from matplotlib import rcParams\n",
    "import matplotlib.ticker as mticker\n",
    "# cartopy\n",
    "import cartopy.crs as ccrs\n",
    "from cartopy.mpl.geoaxes import GeoAxes\n",
    "from cartopy.mpl.gridliner import LONGITUDE_FORMATTER, LATITUDE_FORMATTER\n",
    "import cartopy.feature as cfeature\n",
    "# plot styles/formatting\n",
    "import seaborn as sns\n",
    "import cmocean.cm as cmo\n",
    "import cmocean\n",
    "\n",
    "from IPython.display import Image, display\n",
    "\n",
    "# Path to modules\n",
    "sys.path.append('../modules')\n",
    "\n",
    "# Import my modules\n",
    "from plotter import draw_basemap\n",
    "from timeseries import persistence\n",
    "from eofs import *\n",
    "from ar_funcs import preprocess_ar_area_subregions\n",
    "from kmeans import *"
   ]
  },
  {
   "cell_type": "code",
   "execution_count": 2,
   "metadata": {},
   "outputs": [],
   "source": [
    "# Set up paths\n",
    "\n",
    "path_to_data = '/home/nash/DATA/data/'                            # project data -- read only\n",
    "path_to_out  = '/home/nash/DATA/repositories/AR_types/out/'       # output files (numerical results, intermediate datafiles) -- read & write\n",
    "path_to_figs = '/home/nash/DATA/repositories/AR_types/figs/'      # figures\n",
    "\n",
    "# Set a default font for all matplotlib text (can only set this ONCE; must restart kernel to change it)\n",
    "\n",
    "rcParams['font.family'] = 'sans-serif'   # set the default font family to 'sans-serif'\n",
    "rcParams['font.sans-serif'] = 'Arial'    # set the default sans-serif font to 'Arial'"
   ]
  },
  {
   "cell_type": "code",
   "execution_count": 3,
   "metadata": {},
   "outputs": [
    {
     "data": {
      "text/html": [
       "<div>\n",
       "<style scoped>\n",
       "    .dataframe tbody tr th:only-of-type {\n",
       "        vertical-align: middle;\n",
       "    }\n",
       "\n",
       "    .dataframe tbody tr th {\n",
       "        vertical-align: top;\n",
       "    }\n",
       "\n",
       "    .dataframe thead th {\n",
       "        text-align: right;\n",
       "    }\n",
       "</style>\n",
       "<table border=\"1\" class=\"dataframe\">\n",
       "  <thead>\n",
       "    <tr style=\"text-align: right;\">\n",
       "      <th></th>\n",
       "      <th>Unnamed: 0</th>\n",
       "      <th>AR_CAT</th>\n",
       "      <th>EOF_CAT</th>\n",
       "      <th>EOF_CAT1</th>\n",
       "      <th>EOF_CAT2</th>\n",
       "    </tr>\n",
       "  </thead>\n",
       "  <tbody>\n",
       "    <tr>\n",
       "      <th>0</th>\n",
       "      <td>1979-12-01 09:00:00</td>\n",
       "      <td>2</td>\n",
       "      <td>0</td>\n",
       "      <td>0</td>\n",
       "      <td>0</td>\n",
       "    </tr>\n",
       "    <tr>\n",
       "      <th>1</th>\n",
       "      <td>1979-12-02 09:00:00</td>\n",
       "      <td>2</td>\n",
       "      <td>0</td>\n",
       "      <td>0</td>\n",
       "      <td>0</td>\n",
       "    </tr>\n",
       "    <tr>\n",
       "      <th>2</th>\n",
       "      <td>1979-12-03 09:00:00</td>\n",
       "      <td>0</td>\n",
       "      <td>0</td>\n",
       "      <td>0</td>\n",
       "      <td>0</td>\n",
       "    </tr>\n",
       "    <tr>\n",
       "      <th>3</th>\n",
       "      <td>1979-12-04 09:00:00</td>\n",
       "      <td>0</td>\n",
       "      <td>0</td>\n",
       "      <td>0</td>\n",
       "      <td>0</td>\n",
       "    </tr>\n",
       "    <tr>\n",
       "      <th>4</th>\n",
       "      <td>1979-12-05 09:00:00</td>\n",
       "      <td>0</td>\n",
       "      <td>0</td>\n",
       "      <td>0</td>\n",
       "      <td>0</td>\n",
       "    </tr>\n",
       "    <tr>\n",
       "      <th>...</th>\n",
       "      <td>...</td>\n",
       "      <td>...</td>\n",
       "      <td>...</td>\n",
       "      <td>...</td>\n",
       "      <td>...</td>\n",
       "    </tr>\n",
       "    <tr>\n",
       "      <th>3515</th>\n",
       "      <td>2018-02-24 09:00:00</td>\n",
       "      <td>0</td>\n",
       "      <td>0</td>\n",
       "      <td>0</td>\n",
       "      <td>0</td>\n",
       "    </tr>\n",
       "    <tr>\n",
       "      <th>3516</th>\n",
       "      <td>2018-02-25 09:00:00</td>\n",
       "      <td>0</td>\n",
       "      <td>0</td>\n",
       "      <td>0</td>\n",
       "      <td>0</td>\n",
       "    </tr>\n",
       "    <tr>\n",
       "      <th>3517</th>\n",
       "      <td>2018-02-26 09:00:00</td>\n",
       "      <td>1</td>\n",
       "      <td>0</td>\n",
       "      <td>0</td>\n",
       "      <td>0</td>\n",
       "    </tr>\n",
       "    <tr>\n",
       "      <th>3518</th>\n",
       "      <td>2018-02-27 09:00:00</td>\n",
       "      <td>0</td>\n",
       "      <td>0</td>\n",
       "      <td>0</td>\n",
       "      <td>0</td>\n",
       "    </tr>\n",
       "    <tr>\n",
       "      <th>3519</th>\n",
       "      <td>2018-02-28 09:00:00</td>\n",
       "      <td>0</td>\n",
       "      <td>0</td>\n",
       "      <td>0</td>\n",
       "      <td>0</td>\n",
       "    </tr>\n",
       "  </tbody>\n",
       "</table>\n",
       "<p>3520 rows × 5 columns</p>\n",
       "</div>"
      ],
      "text/plain": [
       "               Unnamed: 0  AR_CAT  EOF_CAT  EOF_CAT1  EOF_CAT2\n",
       "0     1979-12-01 09:00:00       2        0         0         0\n",
       "1     1979-12-02 09:00:00       2        0         0         0\n",
       "2     1979-12-03 09:00:00       0        0         0         0\n",
       "3     1979-12-04 09:00:00       0        0         0         0\n",
       "4     1979-12-05 09:00:00       0        0         0         0\n",
       "...                   ...     ...      ...       ...       ...\n",
       "3515  2018-02-24 09:00:00       0        0         0         0\n",
       "3516  2018-02-25 09:00:00       0        0         0         0\n",
       "3517  2018-02-26 09:00:00       1        0         0         0\n",
       "3518  2018-02-27 09:00:00       0        0         0         0\n",
       "3519  2018-02-28 09:00:00       0        0         0         0\n",
       "\n",
       "[3520 rows x 5 columns]"
      ]
     },
     "execution_count": 3,
     "metadata": {},
     "output_type": "execute_result"
    }
   ],
   "source": [
    "fname_id = 'HUV250QUV850t0120-1565corhma_AR-types-djf'\n",
    "filepath = path_to_out +  fname_id + '.csv'\n",
    "df = pd.read_csv(filepath)\n",
    "df"
   ]
  },
  {
   "cell_type": "code",
   "execution_count": 4,
   "metadata": {},
   "outputs": [],
   "source": [
    "df['AR_CAT1'] = 0\n",
    "df['AR_CAT2'] = 0\n",
    "idx = (df['AR_CAT'] == 1) \n",
    "df.loc[idx, 'AR_CAT1'] = 1\n",
    "idx = (df['AR_CAT'] == 2) \n",
    "df.loc[idx, 'AR_CAT2'] = 1\n"
   ]
  },
  {
   "cell_type": "code",
   "execution_count": 5,
   "metadata": {},
   "outputs": [],
   "source": [
    "def nearest(items, pivot):\n",
    "    '''Find the nearest date in a list compared to a single date'''\n",
    "    nearest=min(items, key=lambda x: abs(x - pivot))\n",
    "    timedelta = pivot-nearest\n",
    "    return timedelta.days"
   ]
  },
  {
   "cell_type": "code",
   "execution_count": 7,
   "metadata": {},
   "outputs": [
    {
     "data": {
      "text/plain": [
       "array([-59, -49, -70, -69,  -9, -33,   0,   1,   0,   0,  33,  34,  -6,\n",
       "        -4, 349, 350, 351, 352,  -3,  -2,  -1,   0,   0,   1,   9, -12,\n",
       "       -11, -10,  -9,   0,   9, -19,   1,   1,   2, -15, -14, -13,   8,\n",
       "        16, -20,  -9,  -8,   0,   0,   0,   1,   0,   0,   1,  -8,  -1,\n",
       "         0, -21, -20, -19, -18,   0,   0,   0,   0,   0,   0,  24,  25,\n",
       "       -63, -29, -28, -20,   6,  10,  39,   0,   1,   2, -36, 288, 289,\n",
       "       352, 355,  15,  16,   0, -31, -30,   0, -65, -64, -63,  10,  11,\n",
       "         0,  17, -11, -10,   0,   0,   0,   0,   2,   3,   0,  24,   0,\n",
       "         0,   0, -12, -11,   1,   0,   1,  -1,   0, -16,   0, -21,   0,\n",
       "         1,   4,   6,  15,  16,  -1,   0,  11,  12,   0,  -1,   1,   2,\n",
       "         0,  -1,   0,   0,  -1,  -1,   0,  -7,  -6,  -5,  -4,  -3, 286])"
      ]
     },
     "execution_count": 7,
     "metadata": {},
     "output_type": "execute_result"
    }
   ],
   "source": [
    "# List of dates that match EOF1 conditions\n",
    "idx = (df.EOF_CAT1 > 0)\n",
    "x = df['Unnamed: 0'][idx]\n",
    "\n",
    "# list of dates that match EOF2 conditions\n",
    "idx = (df.EOF_CAT2 > 0)\n",
    "y = df['Unnamed: 0'][idx]\n",
    "\n",
    "timedel = []\n",
    "for i in range(len(x)):\n",
    "    t1 = pd.to_datetime(x.iloc[i])\n",
    "    t2 = pd.to_datetime(y)\n",
    "    timedel.append(nearest(items=t2, pivot=t1))\n",
    "\n",
    "np.asarray(timedel)"
   ]
  },
  {
   "cell_type": "code",
   "execution_count": 8,
   "metadata": {},
   "outputs": [
    {
     "data": {
      "text/plain": [
       "array([  10,  -14,  -61,  -60,  -11,   -2,   -1,   20,   21,   54,   55,\n",
       "          3,    4,    5,   50,    7,  -18,   19,    4,    5,    2,    3,\n",
       "         -9,   -4,    8,    9,    7,   -8,    1,    2,    3,    7,    8,\n",
       "         16,    8,    9,   -8,    2,    3,   -3,    4,    5,    8,   11,\n",
       "         12,  -14,  -13,  -10,   -9,   12,   13,   24,   25,   26,  -29,\n",
       "        -28,  -20,    5,    6,   29,   30,   51,   66,   68,   69,   70,\n",
       "         71,  -36,  -29,  -28,  -27,  -23,   -3,   -5,    5, -346, -331,\n",
       "       -330,   -6,   38,   15,   16,  -23,    4,   11,   29,    1,    2,\n",
       "          9,   10,    6,    3,    4,  -12,  -11,   -9,   -8,    2,    1,\n",
       "          1,  -16,    1,    2,    1,    4,    7,    8,    9,   10,  -12,\n",
       "        -11,  -15,  -14,  -24,  -23,    1,  -39,  -38,  -16,  -15,    1,\n",
       "          1,  -13,  -12,  -11,   10,    6,    7,    4,    6,   15,   16,\n",
       "        370, -372, -371, -370, -359, -358,  -69,  -49,  -48,    1,    2,\n",
       "          3,   -2,   -9,   -8,   22,   23,   24,  -27,    3,    4,  290,\n",
       "        361,  373])"
      ]
     },
     "execution_count": 8,
     "metadata": {},
     "output_type": "execute_result"
    }
   ],
   "source": [
    "# List of dates that match AR1 conditions\n",
    "idx = (df.AR_CAT1 > 0)\n",
    "x2 = df['Unnamed: 0'][idx]\n",
    "\n",
    "# list of dates that match EOF2 conditions\n",
    "idx = (df.AR_CAT2 > 0)\n",
    "y2 = df['Unnamed: 0'][idx]\n",
    "\n",
    "timedel2 = []\n",
    "for i in range(len(x2)):\n",
    "    t1 = pd.to_datetime(x2.iloc[i])\n",
    "    t2 = pd.to_datetime(y2)\n",
    "    timedel2.append(nearest(items=t2, pivot=t1))\n",
    "\n",
    "np.asarray(timedel2)"
   ]
  },
  {
   "cell_type": "code",
   "execution_count": 9,
   "metadata": {},
   "outputs": [
    {
     "name": "stdout",
     "output_type": "stream",
     "text": [
      "Number of times EOF1 and EOF2 overlap: 40\n",
      "Number of times AR1 and AR2 overlap: 0\n"
     ]
    },
    {
     "data": {
      "text/plain": [
       "Text(0, 0.5, 'Number of days between modes')"
      ]
     },
     "execution_count": 9,
     "metadata": {},
     "output_type": "execute_result"
    },
    {
     "name": "stderr",
     "output_type": "stream",
     "text": [
      "findfont: Font family ['sans-serif'] not found. Falling back to DejaVu Sans.\n"
     ]
    },
    {
     "data": {
      "image/png": "[encoded data removed]",
      "text/plain": [
       "<Figure size 1600x1600 with 1 Axes>"
      ]
     },
     "metadata": {
      "needs_background": "light"
     },
     "output_type": "display_data"
    }
   ],
   "source": [
    "# plot date of list x and number of days to next event as y\n",
    "fig = plt.figure(figsize=(8, 8))\n",
    "fig.dpi = 200\n",
    "fmt = 'png'\n",
    "\n",
    "x = pd.to_datetime(x)\n",
    "y = np.asarray(timedel)\n",
    "print('Number of times EOF1 and EOF2 overlap:', len(y) - np.count_nonzero(y))\n",
    "\n",
    "x2 = pd.to_datetime(x2)\n",
    "y2 = np.asarray(timedel2)\n",
    "print('Number of times AR1 and AR2 overlap:', len(y2) - np.count_nonzero(y2))\n",
    "\n",
    "ax = plt.subplot(111)\n",
    "ax.plot(x, y, 'bo')\n",
    "ax.plot(x2, y2, 'ro')\n",
    "ax.set_ylim([-75, 75])\n",
    "ax.axhline(0, color='k')\n",
    "ax.set_ylabel('Number of days between modes')\n"
   ]
  },
  {
   "cell_type": "code",
   "execution_count": 10,
   "metadata": {},
   "outputs": [
    {
     "data": {
      "text/plain": [
       "{'whiskers': [<matplotlib.lines.Line2D at 0x7fc5befd3350>,\n",
       "  <matplotlib.lines.Line2D at 0x7fc5befd3890>,\n",
       "  <matplotlib.lines.Line2D at 0x7fc5befe3390>,\n",
       "  <matplotlib.lines.Line2D at 0x7fc5befe38d0>],\n",
       " 'caps': [<matplotlib.lines.Line2D at 0x7fc5befd3dd0>,\n",
       "  <matplotlib.lines.Line2D at 0x7fc5befda350>,\n",
       "  <matplotlib.lines.Line2D at 0x7fc5befe3dd0>,\n",
       "  <matplotlib.lines.Line2D at 0x7fc5befea350>],\n",
       " 'boxes': [<matplotlib.lines.Line2D at 0x7fc5befca310>,\n",
       "  <matplotlib.lines.Line2D at 0x7fc5befdae10>],\n",
       " 'medians': [<matplotlib.lines.Line2D at 0x7fc5befda8d0>,\n",
       "  <matplotlib.lines.Line2D at 0x7fc5befea890>],\n",
       " 'fliers': [],\n",
       " 'means': []}"
      ]
     },
     "execution_count": 10,
     "metadata": {},
     "output_type": "execute_result"
    },
    {
     "data": {
      "image/png": "[encoded data removed]",
      "text/plain": [
       "<Figure size 432x288 with 1 Axes>"
      ]
     },
     "metadata": {
      "needs_background": "light"
     },
     "output_type": "display_data"
    }
   ],
   "source": [
    "data = [y, y2]\n",
    "fig1, ax1 = plt.subplots()\n",
    "ax1.boxplot(data,  showfliers=False)\n"
   ]
  },
  {
   "cell_type": "code",
   "execution_count": null,
   "metadata": {},
   "outputs": [],
   "source": [
    "df.index = pd.to_datetime(df['Unnamed: 0'])\n",
    "# # resample to monthly\n",
    "# df_month = df.resample('M', label='right').sum()\n",
    "# resample to weekly\n",
    "df_month = df.resample('W', label='right').sum()\n",
    "df_month = df_month[df_month.index.month.isin([12, 1, 2])]\n",
    "df_month"
   ]
  },
  {
   "cell_type": "code",
   "execution_count": null,
   "metadata": {},
   "outputs": [],
   "source": [
    "fname = path_to_figs + 'PC_ts'+ fname_id \n",
    "fmt = 'png'\n",
    "fig = plt.figure()\n",
    "fig.set_size_inches((20.0,4.0))\n",
    "fig.dpi = 300\n",
    "nplots=1\n",
    "\n",
    "flatui = [\"gold\",\"lightcoral\"]\n",
    "          \n",
    "sns.set_style(\"whitegrid\")\n",
    "# sns.set_context(\"paper\")\n",
    "sns.despine()\n",
    "\n",
    "for i in np.arange(nplots):\n",
    "    ax = fig.add_subplot(1, 1, i+1)\n",
    "    ax.plot(np.arange(len(df_month)), df_month.EOF_CAT1.values, color='r', label='EOF1')\n",
    "    ax.plot(np.arange(len(df_month)), df_month.EOF_CAT2.values, color='b', label='EOF2')\n",
    "#     ax.plot(np.arange(len(df_month)), df_month.AR_CAT1.values, color='r', label='AR 1')\n",
    "#     ax.plot(np.arange(len(df_month)), df_month.AR_CAT2.values, color='b', label='AR 2')\n",
    "    ax.set_xlim(0,len(df_month))\n",
    "#     sns.barplot(x=np.arange(len(results)), y='frequency', hue='type', data=results)\n",
    "    ax.set_ylabel('Total # of AR Days', fontsize=14)\n",
    "    ax.legend(loc='upper left')\n",
    "    \n",
    "# Save the figure\n",
    "fig.savefig('%s.%s' % (fname, fmt), bbox_inches='tight', dpi=fig.dpi)\n",
    "fig.clf()\n",
    "\n",
    "plotFile = fname + '.png'\n",
    "print(plotFile)\n",
    "display(Image(plotFile))"
   ]
  },
  {
   "cell_type": "code",
   "execution_count": null,
   "metadata": {},
   "outputs": [],
   "source": [
    "df_month = df_month.drop(columns=['AR_CAT', 'EOF_CAT'])\n",
    "df_month.loc[:,\"date\"] = df_month.index\n",
    "# make a tidy dataframe for seaborn bar plot \n",
    "results = pd.melt(df_month, id_vars=['date'], var_name='type', value_name='frequency')\n",
    "results"
   ]
  },
  {
   "cell_type": "code",
   "execution_count": null,
   "metadata": {},
   "outputs": [],
   "source": [
    "## Select MERRA2 or ERA5\n",
    "reanalysis = 'era5'\n",
    "\n",
    "if reanalysis == 'era5':\n",
    "    start_date = '1979-01-01'\n",
    "    end_date = '2018-12-31'\n",
    "    filename = 'ar_catalog_ERAI_fraction_HASIAsubregions.nc'\n",
    "## if MERRA2\n",
    "else:\n",
    "    start_date = '1980-01-01'\n",
    "    end_date = '2017-12-31'\n",
    "    filename = 'ar_catalog_fraction_HASIAsubregions.nc'\n",
    "    \n",
    "f1 = path_to_data + 'CH1_generated_data/' + filename\n",
    "ds = xr.open_dataset(f1)\n",
    "# Set dates\n",
    "ds = ds.sel(time=slice(start_date, end_date))\n",
    "## Preprocess AR subregions - get dataframe of AR days based on area threshold\n",
    "df = preprocess_ar_area_subregions(df=ds.to_dataframe(), thres=0.3)\n",
    "# Show table\n",
    "df.head()"
   ]
  },
  {
   "cell_type": "code",
   "execution_count": null,
   "metadata": {},
   "outputs": [],
   "source": [
    "len(df)"
   ]
  },
  {
   "cell_type": "code",
   "execution_count": null,
   "metadata": {},
   "outputs": [],
   "source": [
    "## time series of AR Days\n",
    "fig, ax = plt.subplots(figsize=(6,4))\n",
    "x=np.arange(len(df))\n",
    "## Use the following syntax to access data via variable/column names\n",
    "y=df.ar\n",
    "## Use matplotlib's plot_date function when your x-axis is a datetime series\n",
    "ax.bar(x, y)\n",
    "\n",
    "plt.show()"
   ]
  },
  {
   "cell_type": "code",
   "execution_count": null,
   "metadata": {},
   "outputs": [],
   "source": [
    "## import HMA loadings t-mode correlation matrix\n",
    "filename = path_to_out + 'loadings_HUV250QUV850t0120-1565cor.txt'\n",
    "col_names = ['PC1', 'PC2', 'PC3', 'PC4']\n",
    "df1 = pd.read_csv(filename, header=None, names=col_names)\n",
    "df1\n",
    "\n",
    "\n",
    "\n",
    "xx = df1.PC1.values\n",
    "yy = df1.PC2.values\n",
    "\n",
    "print(np.isnan(xx).any())\n",
    "print(np.isnan(yy).any())\n",
    "\n",
    "print(np.isinf(xx).any())\n",
    "print(np.isinf(yy).any())\n",
    "\n",
    "r, pval = stats.pearsonr(xx, yy)\n",
    "print(r, pval)"
   ]
  },
  {
   "cell_type": "code",
   "execution_count": null,
   "metadata": {},
   "outputs": [],
   "source": [
    "df1"
   ]
  },
  {
   "cell_type": "code",
   "execution_count": null,
   "metadata": {},
   "outputs": [],
   "source": [
    "np.std(yy)"
   ]
  },
  {
   "cell_type": "code",
   "execution_count": null,
   "metadata": {},
   "outputs": [],
   "source": [
    "np.mean(yy)"
   ]
  },
  {
   "cell_type": "code",
   "execution_count": null,
   "metadata": {},
   "outputs": [],
   "source": [
    "df1.hist()"
   ]
  },
  {
   "cell_type": "code",
   "execution_count": null,
   "metadata": {},
   "outputs": [],
   "source": [
    "df1.PC1 \n",
    "std_PC = np.std(df1)\n",
    "mean_PC = np.mean(df1)\n",
    "std_PC\n",
    "idx = (df1['PC1']-mean_PC.PC1 >= std_PC.PC1) | (df1['PC1']-mean_PC.PC1 <= std_PC.PC1*-1)\n",
    "PC1_sel = df1.PC1.loc[idx]\n",
    "\n",
    "idx = (df1['PC2']-mean_PC.PC2 >= std_PC.PC2) | (df1['PC2']-mean_PC.PC2 <= std_PC.PC2*-1)\n",
    "PC2_sel = df1.PC2.loc[idx]"
   ]
  },
  {
   "cell_type": "code",
   "execution_count": null,
   "metadata": {},
   "outputs": [],
   "source": [
    "fig = plt.figure(figsize=(20, 3))\n",
    "fig.dpi = 200\n",
    "fmt = 'png'\n",
    "\n",
    "x = np.arange(len(xx))\n",
    "\n",
    "\n",
    "ax = plt.subplot(111)\n",
    "ax.plot(x, xx, 'b-')\n",
    "ax.plot(PC1_sel.index, PC1_sel.values, 'bo', label='PC1')\n",
    "ax.plot(x, yy, 'g-')\n",
    "ax.plot(PC2_sel.index, PC2_sel.values, 'go', label='PC2')\n",
    "ax.axhline(0, color='k')\n",
    "ax.set_ylim(-1, 1)\n",
    "ax.set_xlim(0, 371)\n",
    "ax.legend()"
   ]
  },
  {
   "cell_type": "code",
   "execution_count": null,
   "metadata": {},
   "outputs": [],
   "source": [
    "filename = path_to_out + 'HUV250QUV850t0120-1565corhma_AR-types-djf.csv'\n",
    "df = pd.read_csv(filename)\n",
    "df"
   ]
  },
  {
   "cell_type": "code",
   "execution_count": null,
   "metadata": {},
   "outputs": [],
   "source": [
    "df.EOF_CAT2.sum()"
   ]
  },
  {
   "cell_type": "code",
   "execution_count": null,
   "metadata": {},
   "outputs": [],
   "source": [
    "## time series of AR Days\n",
    "fig, ax = plt.subplots(figsize=(12,4))\n",
    "x=df.iloc[:, 0].values\n",
    "ax.plot_date(x, df.AR_CAT, 'bo')\n",
    "ax.plot_date(x, df.EOF_CAT, 'ro')\n",
    "\n",
    "plt.show()"
   ]
  },
  {
   "cell_type": "code",
   "execution_count": null,
   "metadata": {},
   "outputs": [],
   "source": [
    "## time series of AR Days\n",
    "fig, ax = plt.subplots(figsize=(12,4))\n",
    "x=np.arange(len(df))\n",
    "ax.plot(x, df.EOF_CAT1, 'bo')\n",
    "ax.plot(x, df.EOF_CAT2, 'ro')\n",
    "\n",
    "plt.show()"
   ]
  },
  {
   "cell_type": "code",
   "execution_count": null,
   "metadata": {},
   "outputs": [],
   "source": []
  }
 ],
 "metadata": {
  "kernelspec": {
   "display_name": "Python (ar_types)",
   "language": "python",
   "name": "ar_types"
  },
  "language_info": {
   "codemirror_mode": {
    "name": "ipython",
    "version": 3
   },
   "file_extension": ".py",
   "mimetype": "text/x-python",
   "name": "python",
   "nbconvert_exporter": "python",
   "pygments_lexer": "ipython3",
   "version": "3.7.6"
  }
 },
 "nbformat": 4,
 "nbformat_minor": 4
}
