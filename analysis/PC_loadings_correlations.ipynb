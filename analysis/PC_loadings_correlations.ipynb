{
 "cells": [
  {
   "cell_type": "code",
   "execution_count": 24,
   "metadata": {},
   "outputs": [],
   "source": [
    "# Import Python modules\n",
    "import os, sys\n",
    "from pathlib import Path\n",
    "import numpy as np\n",
    "import numpy.ma as ma\n",
    "import pandas as  pd\n",
    "import xarray as xr\n",
    "from sklearn.cluster import KMeans\n",
    "from scipy import stats\n",
    "# matplotlib\n",
    "import matplotlib.pyplot as plt\n",
    "from matplotlib.gridspec import GridSpec\n",
    "from mpl_toolkits.axes_grid1 import AxesGrid\n",
    "from matplotlib.colors import ListedColormap\n",
    "from matplotlib import rcParams\n",
    "import matplotlib.ticker as mticker\n",
    "# cartopy\n",
    "import cartopy.crs as ccrs\n",
    "from cartopy.mpl.geoaxes import GeoAxes\n",
    "from cartopy.mpl.gridliner import LONGITUDE_FORMATTER, LATITUDE_FORMATTER\n",
    "import cartopy.feature as cfeature\n",
    "# plot styles/formatting\n",
    "import seaborn as sns\n",
    "import cmocean.cm as cmo\n",
    "import cmocean\n",
    "\n",
    "from IPython.display import Image, display\n",
    "\n",
    "# Path to modules\n",
    "sys.path.append('../modules')\n",
    "\n",
    "# Import my modules\n",
    "from plotter import draw_basemap\n",
    "from timeseries import persistence\n",
    "from eofs import *\n",
    "from ar_funcs import preprocess_ar_area_subregions\n",
    "from kmeans import *"
   ]
  },
  {
   "cell_type": "code",
   "execution_count": 25,
   "metadata": {},
   "outputs": [],
   "source": [
    "# Set up paths\n",
    "\n",
    "path_to_data = '/home/nash/DATA/data/'                            # project data -- read only\n",
    "path_to_out  = '/home/nash/DATA/repositories/AR_types/out/'       # output files (numerical results, intermediate datafiles) -- read & write\n",
    "path_to_figs = '/home/nash/DATA/repositories/AR_types/figs/'      # figures\n",
    "\n",
    "# Set a default font for all matplotlib text (can only set this ONCE; must restart kernel to change it)\n",
    "\n",
    "rcParams['font.family'] = 'sans-serif'   # set the default font family to 'sans-serif'\n",
    "rcParams['font.sans-serif'] = 'Arial'    # set the default sans-serif font to 'Arial'"
   ]
  },
  {
   "cell_type": "code",
   "execution_count": 26,
   "metadata": {},
   "outputs": [
    {
     "name": "stdout",
     "output_type": "stream",
     "text": [
      "True\n",
      "False\n",
      "False\n",
      "False\n",
      "0.908809028426214 0.0\n"
     ]
    }
   ],
   "source": [
    "## import AAO index\n",
    "filename = path_to_data + 'teleconnection_indices/norm.daily.aao.index.b790101.current.ascii'\n",
    "col_names = ['year', 'month', 'day', 'AAO']\n",
    "df1 = pd.read_csv(filename, header=None, names=col_names, delim_whitespace=True)\n",
    "idx = (df1['year'] < 2018) & (df1['year'] > 1979)\n",
    "df1 = df1[idx]\n",
    "df1\n",
    "\n",
    "## import PCs (aka \"loadings\")\n",
    "filename = path_to_out + 'loadings_H700t-180180-90-20cor.txt'\n",
    "col_names = ['PC1', 'PC2', 'PC3', 'PC4']\n",
    "df2 = pd.read_csv(filename, header=None, names=col_names)\n",
    "df2\n",
    "\n",
    "xx = df1.AAO.values\n",
    "yy = df2.PC1.values\n",
    "\n",
    "print(np.isnan(xx).any())\n",
    "print(np.isnan(yy).any())\n",
    "\n",
    "print(np.isinf(xx).any())\n",
    "print(np.isinf(yy).any())\n",
    "\n",
    "xx = np.nan_to_num(xx)\n",
    "\n",
    "r, pval = stats.pearsonr(xx, yy)\n",
    "print(r, pval)"
   ]
  },
  {
   "cell_type": "code",
   "execution_count": 36,
   "metadata": {},
   "outputs": [
    {
     "name": "stdout",
     "output_type": "stream",
     "text": [
      "False\n",
      "False\n",
      "False\n",
      "False\n",
      "0.5527288275219873 4.381920377318565e-114\n"
     ]
    }
   ],
   "source": [
    "## import ENSO loadings s-mode correlation matrix\n",
    "filename = path_to_out + 'loadings_SLPs-180180-3030cor.txt'\n",
    "col_names = ['PC1', 'PC2', 'PC3', 'PC4']\n",
    "df1 = pd.read_csv(filename, header=None, names=col_names)\n",
    "df1\n",
    "\n",
    "## import ENSO loadings t-mode correlation matrix\n",
    "filename = path_to_out + 'loadings_SLPt-180180-3030cor.txt'\n",
    "col_names = ['PC1', 'PC2', 'PC3', 'PC4']\n",
    "df2 = pd.read_csv(filename, header=None, names=col_names)\n",
    "df2\n",
    "\n",
    "xx = df1.PC4.values\n",
    "yy = df2.PC2.values\n",
    "\n",
    "print(np.isnan(xx).any())\n",
    "print(np.isnan(yy).any())\n",
    "\n",
    "print(np.isinf(xx).any())\n",
    "print(np.isinf(yy).any())\n",
    "\n",
    "r, pval = stats.pearsonr(xx, yy)\n",
    "print(r, pval)"
   ]
  },
  {
   "cell_type": "code",
   "execution_count": 30,
   "metadata": {},
   "outputs": [
    {
     "name": "stdout",
     "output_type": "stream",
     "text": [
      "False\n",
      "False\n",
      "False\n",
      "False\n",
      "-0.9844998995826961 4.552204197544688e-281\n"
     ]
    }
   ],
   "source": [
    "## import HMA loadings s-mode correlation matrix\n",
    "filename = path_to_out + 'loadings_HUVQ500s0120-1565cor.txt'\n",
    "col_names = ['PC1', 'PC2', 'PC3', 'PC4']\n",
    "df1 = pd.read_csv(filename, header=None, names=col_names)\n",
    "df1\n",
    "\n",
    "## import HMA loadings t-mode correlation matrix\n",
    "filename = path_to_out + 'loadings_HUVQ500t0120-1565cor.txt'\n",
    "col_names = ['PC1', 'PC2', 'PC3', 'PC4']\n",
    "df2 = pd.read_csv(filename, header=None, names=col_names)\n",
    "df2\n",
    "\n",
    "xx = df1.PC1.values\n",
    "yy = df2.PC1.values\n",
    "\n",
    "print(np.isnan(xx).any())\n",
    "print(np.isnan(yy).any())\n",
    "\n",
    "print(np.isinf(xx).any())\n",
    "print(np.isinf(yy).any())\n",
    "\n",
    "r, pval = stats.pearsonr(xx, yy)\n",
    "print(r, pval)"
   ]
  },
  {
   "cell_type": "code",
   "execution_count": 35,
   "metadata": {},
   "outputs": [
    {
     "name": "stdout",
     "output_type": "stream",
     "text": [
      "False\n",
      "False\n",
      "False\n",
      "False\n",
      "0.37720131924599937 0.0\n"
     ]
    }
   ],
   "source": [
    "## import AAO loadings s-mode correlation matrix\n",
    "filename = path_to_out + 'loadings_H700s-180180-90-20cor.txt'\n",
    "col_names = ['PC1', 'PC2', 'PC3', 'PC4']\n",
    "df1 = pd.read_csv(filename, header=None, names=col_names)\n",
    "df1\n",
    "\n",
    "## import AAO loadings t-mode correlation matrix\n",
    "filename = path_to_out + 'loadings_H700t-180180-90-20cor.txt'\n",
    "col_names = ['PC1', 'PC2', 'PC3', 'PC4']\n",
    "df2 = pd.read_csv(filename, header=None, names=col_names)\n",
    "df2\n",
    "\n",
    "xx = df1.PC4.values\n",
    "yy = df2.PC4.values\n",
    "\n",
    "print(np.isnan(xx).any())\n",
    "print(np.isnan(yy).any())\n",
    "\n",
    "print(np.isinf(xx).any())\n",
    "print(np.isinf(yy).any())\n",
    "\n",
    "r, pval = stats.pearsonr(xx, yy)\n",
    "print(r, pval)"
   ]
  },
  {
   "cell_type": "code",
   "execution_count": null,
   "metadata": {},
   "outputs": [],
   "source": []
  }
 ],
 "metadata": {
  "kernelspec": {
   "display_name": "Python (ar_types)",
   "language": "python",
   "name": "ar_types"
  },
  "language_info": {
   "codemirror_mode": {
    "name": "ipython",
    "version": 3
   },
   "file_extension": ".py",
   "mimetype": "text/x-python",
   "name": "python",
   "nbconvert_exporter": "python",
   "pygments_lexer": "ipython3",
   "version": "3.7.6"
  }
 },
 "nbformat": 4,
 "nbformat_minor": 4
}
